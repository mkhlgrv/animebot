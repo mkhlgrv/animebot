{
 "cells": [
  {
   "cell_type": "code",
   "execution_count": 7,
   "id": "90e823f3",
   "metadata": {},
   "outputs": [],
   "source": [
    "import requests\n",
    "from scrapy.selector import Selector\n",
    "import re\n",
    "import os\n",
    "from dotenv import load_dotenv\n",
    "load_dotenv()\n",
    "token = os.getenv('token')\n",
    "chat_id = os.getenv('chat_id')\n",
    "user_agent = os.getenv('user_agent')"
   ]
  },
  {
   "cell_type": "code",
   "execution_count": 2,
   "id": "24fa1dcb",
   "metadata": {},
   "outputs": [],
   "source": [
    "# список аниме"
   ]
  },
  {
   "cell_type": "code",
   "execution_count": 3,
   "id": "63f5bbeb",
   "metadata": {},
   "outputs": [],
   "source": [
    "response = requests.get(\"https://jut.su/anime/\",\n",
    "                       headers = {\n",
    "        'User-Agent': user_agent\n",
    "    })"
   ]
  },
  {
   "cell_type": "code",
   "execution_count": 4,
   "id": "b5713bef",
   "metadata": {},
   "outputs": [],
   "source": [
    "content = response.content.decode('cp1251').encode('utf8')"
   ]
  },
  {
   "cell_type": "code",
   "execution_count": 5,
   "id": "223e6138",
   "metadata": {},
   "outputs": [],
   "source": [
    "x = Selector(text=content).xpath('//div[contains(@class, \"all_anime_global\")]')"
   ]
  },
  {
   "cell_type": "code",
   "execution_count": 6,
   "id": "9ed5d811",
   "metadata": {},
   "outputs": [],
   "source": [
    "refs = x.xpath('./a/@href').getall()\n",
    "names = x.xpath('.//div[contains(@class, \"aaname\")]/text()').getall()\n",
    "x_series = x.xpath('.//div[contains(@class, \"aailines\")]')\n",
    "\n",
    "def get_series_cnt(content:Selector)->int:\n",
    "    text = \"\".join(content.xpath(\"./text()\").getall())\n",
    "    series_cnt = re.search(r\"(\\d+)\\sсери\", text).group(1)\n",
    "    return int(series_cnt) if series_cnt else 0\n",
    "\n",
    "series_cnts = [get_series_cnt(item) for item in x_series]"
   ]
  },
  {
   "cell_type": "code",
   "execution_count": 7,
   "id": "b16e143d",
   "metadata": {},
   "outputs": [],
   "source": [
    "anime_dict = {}\n",
    "for ref, name, series_cnt in zip(refs, names, series_cnts):\n",
    "    if ref not in anime_dict:\n",
    "        anime_dict[ref] = {\"ref\":ref, \"name\":name, \"series_cnt\":series_cnt}"
   ]
  },
  {
   "cell_type": "code",
   "execution_count": 8,
   "id": "ea913d3c",
   "metadata": {},
   "outputs": [],
   "source": [
    "selected = ['/full-metal-alchemist/']\n",
    "selected_dict = {key:item for key, item in anime_dict.items() if key in selected}"
   ]
  },
  {
   "cell_type": "code",
   "execution_count": 9,
   "id": "e58eaf90",
   "metadata": {},
   "outputs": [],
   "source": [
    "# for key in selected:\n",
    "#     response = requests.get(f\"https://jut.su{key}\",\n",
    "#                        headers = {\n",
    "#         'User-Agent': user_agent\n",
    "#     })\n",
    "#     content = response.content.decode('cp1251').encode('utf8')\n",
    "#     series = Selector(text=response.content).xpath('//a[contains(@class, \"short-btn\")]//@href')\n",
    "#     diff = len(series) - anime_dict[key][\"n_series\"]\n",
    "#     if  diff!= 0:\n",
    "#         name = anime_dict[key][\"name\"]\n",
    "#         print(f\"{name} {diff} новых серий!\")\n",
    "#     anime_dict[key][\"n_series\"] = len(series)\n",
    "# # TODO descrpition\n",
    "# # x.xpath('.//div[contains(@class, \"tooltip_of_the_anime\")]/@content').get()"
   ]
  },
  {
   "cell_type": "code",
   "execution_count": 10,
   "id": "48c8dc6d",
   "metadata": {},
   "outputs": [],
   "source": [
    "# class AnimeObserver():\n",
    "#     def __init__(self, selected):\n",
    "#         self.selected = selected\n",
    "        "
   ]
  },
  {
   "cell_type": "code",
   "execution_count": 11,
   "id": "0b40a791",
   "metadata": {},
   "outputs": [],
   "source": [
    "selected_item = selected_dict['/full-metal-alchemist/']\n"
   ]
  },
  {
   "cell_type": "code",
   "execution_count": null,
   "id": "71beb9ab",
   "metadata": {
    "pycharm": {
     "name": "#%%\n"
    }
   },
   "outputs": [],
   "source": [
    "# from telegram.ext.updater import Updater\n",
    "# from telegram.update import Update\n",
    "# from telegram.ext.callbackcontext import CallbackContext\n",
    "# from telegram.ext.commandhandler import CommandHandler\n",
    "# from telegram.ext.messagehandler import MessageHandler\n",
    "# from telegram.ext.filters import Filters\n",
    "#\n",
    "# updater = Updater(\"token\", use_context=True)\n",
    "#\n",
    "#\n",
    "# def start(update: Update, context: CallbackContext):\n",
    "#     update.message.reply_text(\n",
    "#         \"Hello sir, Welcome to the Bot.Please write\\\n",
    "#         /help to see the commands available.\")\n",
    "#\n",
    "# def help(update: Update, context: CallbackContext):\n",
    "#     update.message.reply_text(\"\"\"Available Commands :-\n",
    "#     /add - Add selected series\n",
    "#     /remove - Remove series from selected list\n",
    "#     \"\"\")\n",
    "#\n",
    "#\n",
    "# def add(update: Update, context: CallbackContext):\n",
    "#     update.message.reply_text(\n",
    "#         f\"{selected_item['name']}: {selected_item['series_cnt']}\")\n",
    "#\n",
    "# def remove(update: Update, context: CallbackContext):\n",
    "#     update.message.reply_text(\n",
    "#         \"Remove items\")\n",
    "#\n",
    "#\n",
    "#\n",
    "#\n",
    "#\n",
    "# def unknown(update: Update, context: CallbackContext):\n",
    "#     update.message.reply_text(\n",
    "#         \"Sorry '%s' is not a valid command\" % update.message.text)\n",
    "#\n",
    "#\n",
    "# def unknown_text(update: Update, context: CallbackContext):\n",
    "#     update.message.reply_text(\n",
    "#         \"Sorry I can't recognize you , you said '%s'\" % update.message.text)\n",
    "#\n",
    "#\n",
    "# updater.dispatcher.add_handler(CommandHandler('start', start))\n",
    "# updater.dispatcher.add_handler(CommandHandler('add', add))\n",
    "# updater.dispatcher.add_handler(CommandHandler('remove', remove))\n",
    "# updater.dispatcher.add_handler(CommandHandler('help', help))\n",
    "# updater.dispatcher.add_handler(MessageHandler(Filters.text, unknown))\n",
    "# updater.dispatcher.add_handler(MessageHandler(\n",
    "#     Filters.command, unknown)) # Filters out unknown commands\n",
    "#\n",
    "# # Filters out unknown messages.\n",
    "# updater.dispatcher.add_handler(MessageHandler(Filters.text, unknown_text))\n",
    "#\n",
    "# updater.start_polling()\n"
   ]
  },
  {
   "cell_type": "code",
   "execution_count": 14,
   "id": "760560d0",
   "metadata": {},
   "outputs": [],
   "source": [
    "updater.stop()"
   ]
  }
 ],
 "metadata": {
  "kernelspec": {
   "display_name": "Python 3 (ipykernel)",
   "language": "python",
   "name": "python3"
  },
  "language_info": {
   "codemirror_mode": {
    "name": "ipython",
    "version": 3
   },
   "file_extension": ".py",
   "mimetype": "text/x-python",
   "name": "python",
   "nbconvert_exporter": "python",
   "pygments_lexer": "ipython3",
   "version": "3.9.7"
  }
 },
 "nbformat": 4,
 "nbformat_minor": 5
}
