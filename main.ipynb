{
 "cells": [
  {
   "cell_type": "code",
   "execution_count": 20,
   "metadata": {},
   "outputs": [],
   "source": [
    "import requests\n",
    "from scrapy.selector import Selector\n",
    "import re\n",
    "import os\n",
    "from dotenv import load_dotenv\n",
    "import telegram\n",
    "import time \n",
    "from functools import wraps\n",
    "load_dotenv()\n",
    "token = os.getenv('token')\n",
    "chat_id = os.getenv('chat_id')\n",
    "user_agent = os.getenv('user_agent')"
   ]
  },
  {
   "cell_type": "code",
   "execution_count": 21,
   "metadata": {},
   "outputs": [],
   "source": [
    "def timeit(func):\n",
    "    @wraps(func)\n",
    "    def timeit_wrapper(*args, **kwargs):\n",
    "        start_time = time.perf_counter()\n",
    "        result = func(*args, **kwargs)\n",
    "        end_time = time.perf_counter()\n",
    "        total_time = end_time - start_time\n",
    "        print(f'Function {func.__name__}{args} {kwargs} Took {total_time:.4f} seconds')\n",
    "        return result\n",
    "    return timeit_wrapper"
   ]
  },
  {
   "cell_type": "code",
   "execution_count": 162,
   "metadata": {},
   "outputs": [],
   "source": [
    "# список аниме"
   ]
  },
  {
   "cell_type": "code",
   "execution_count": 15,
   "metadata": {},
   "outputs": [],
   "source": [
    "def get_series_cnt(content:Selector)->dict:\n",
    "    text = \"\".join(content.xpath(\"./text()\").getall())\n",
    "    series_match= re.search(r\"(\\d+)\\sсери\", text)\n",
    "    films_match = re.search(r\"(\\d+)\\sфильм\", text)\n",
    "    series_cnt = int(series_match.group(1)) if series_match else 0\n",
    "    films_cnt = int(films_match.group(1)) if films_match else 0\n",
    "    return {'series_cnt': series_cnt,'films_cnt': films_cnt}\n",
    "    \n",
    "#series_cnts = [get_series_cnt_updated(item) for item in x_series]"
   ]
  },
  {
   "cell_type": "code",
   "execution_count": 16,
   "metadata": {},
   "outputs": [],
   "source": [
    "#Selection\n",
    "#selected = ['/full-metal-alchemist/']\n",
    "#selected_dict = {key:item for key, item in anime_dict.items() if key in selected}"
   ]
  },
  {
   "cell_type": "code",
   "execution_count": 22,
   "metadata": {},
   "outputs": [],
   "source": [
    "@timeit\n",
    "def get_data(url:str)->dict:\n",
    "    \"\"\"The function gets url to scrape site content specifically title name,title page source, count of series,count of films'\n",
    "    from all content pages of site and return dict object\n",
    "    INPUT:\n",
    "    URL:url adress must be like https://jut.su/anime/page-(\\d)/\n",
    "    Note: It's also use global constants from .env file  \n",
    "    \n",
    "    OUTPUT:\n",
    "    dict: the dict object which kind is {title_internal_link:\n",
    "    {'title_internal_link':title internal link,\n",
    "     'title': title name in Russian,\n",
    "     'series_cnt': series count,\n",
    "     'film_cnt': film count\n",
    "      }}\"\"\"\n",
    "    anime_dict = {}\n",
    "    page_num = 1\n",
    "    while True:\n",
    "        try:\n",
    "            page_url = url + f\"page-{page_num}/\"\n",
    "            response = requests.get(page_url,headers={\n",
    "            \"User-Agent\": user_agent # global var\n",
    "                    })\n",
    "            content = response.content.decode(\"cp1251\").encode('utf-8')\n",
    "            selections = Selector(text=content).xpath('//div[contains(@class, \"all_anime_global\")]')\n",
    "            links = selections.xpath('./a/@href').getall()\n",
    "            titles_name = selections.xpath('.//div[contains(@class, \"aaname\")]/text()').getall()\n",
    "            titles_info = selections.xpath('.//div[contains(@class, \"aailines\")]')\n",
    "            series_cnts = [get_series_cnt(item) for item in titles_info]\n",
    "            if len(series_cnts)==0:\n",
    "                raise Exception\n",
    "            for link, title, series_cnt in zip(links,titles_name,series_cnts):\n",
    "                 if link not in anime_dict:\n",
    "                        anime_dict[link] = {\"ref\":link, \"title\":title, \"series_cnt\":series_cnt['series_cnt'],'films_cnt':series_cnt['films_cnt']}   \n",
    "            page_num+=1\n",
    "            del series_cnts\n",
    "        except Exception as e: \n",
    "            print(e)\n",
    "            return (anime_dict or \"No conection to the server\")"
   ]
  },
  {
   "cell_type": "code",
   "execution_count": 114,
   "metadata": {},
   "outputs": [],
   "source": [
    "# for key in selected:\n",
    "#     response = requests.get(f\"https://jut.su{key}\",\n",
    "#                        headers = {\n",
    "#         'User-Agent': user_agent\n",
    "#     })\n",
    "#     content = response.content.decode('cp1251').encode('utf8')\n",
    "#     series = Selector(text=response.content).xpath('//a[contains(@class, \"short-btn\")]//@href')\n",
    "#     diff = len(series) - anime_dict[key][\"n_series\"]\n",
    "#     if  diff!= 0:\n",
    "#         name = anime_dict[key][\"name\"]\n",
    "#         print(f\"{name} {diff} новых серий!\")\n",
    "#     anime_dict[key][\"n_series\"] = len(series)\n",
    "# # TODO descrpition\n",
    "# # x.xpath('.//div[contains(@class, \"tooltip_of_the_anime\")]/@content').get()"
   ]
  },
  {
   "cell_type": "code",
   "execution_count": 10,
   "metadata": {},
   "outputs": [],
   "source": [
    "# class AnimeObserver():\n",
    "#     def __init__(self, selected):\n",
    "#         self.selected = selected\n",
    "        "
   ]
  },
  {
   "cell_type": "code",
   "execution_count": 11,
   "metadata": {},
   "outputs": [],
   "source": [
    "selected_item = selected_dict['/full-metal-alchemist/']"
   ]
  },
  {
   "cell_type": "code",
   "execution_count": null,
   "metadata": {
    "pycharm": {
     "name": "#%%\n"
    }
   },
   "outputs": [],
   "source": [
    "# from telegram.ext.updater import Updater\n",
    "# from telegram.update import Update\n",
    "# from telegram.ext.callbackcontext import CallbackContext\n",
    "# from telegram.ext.commandhandler import CommandHandler\n",
    "# from telegram.ext.messagehandler import MessageHandler\n",
    "# from telegram.ext.filters import Filters\n",
    "#\n",
    "# updater = Updater(\"token\", use_context=True)\n",
    "#\n",
    "#\n",
    "# def start(update: Update, context: CallbackContext):\n",
    "#     update.message.reply_text(\n",
    "#         \"Hello sir, Welcome to the Bot.Please write\\\n",
    "#         /help to see the commands available.\")\n",
    "#\n",
    "# def help(update: Update, context: CallbackContext):\n",
    "#     update.message.reply_text(\"\"\"Available Commands :-\n",
    "#     /add - Add selected series\n",
    "#     /remove - Remove series from selected list\n",
    "#     \"\"\")\n",
    "#\n",
    "#\n",
    "# def add(update: Update, context: CallbackContext):\n",
    "#     update.message.reply_text(\n",
    "#         f\"{selected_item['name']}: {selected_item['series_cnt']}\")\n",
    "#\n",
    "# def remove(update: Update, context: CallbackContext):\n",
    "#     update.message.reply_text(\n",
    "#         \"Remove items\")\n",
    "#\n",
    "#\n",
    "#\n",
    "#\n",
    "#\n",
    "# def unknown(update: Update, context: CallbackContext):\n",
    "#     update.message.reply_text(\n",
    "#         \"Sorry '%s' is not a valid command\" % update.message.text)\n",
    "#\n",
    "#\n",
    "# def unknown_text(update: Update, context: CallbackContext):\n",
    "#     update.message.reply_text(\n",
    "#         \"Sorry I can't recognize you , you said '%s'\" % update.message.text)\n",
    "#\n",
    "#\n",
    "# updater.dispatcher.add_handler(CommandHandler('start', start))\n",
    "# updater.dispatcher.add_handler(CommandHandler('add', add))\n",
    "# updater.dispatcher.add_handler(CommandHandler('remove', remove))\n",
    "# updater.dispatcher.add_handler(CommandHandler('help', help))\n",
    "# updater.dispatcher.add_handler(MessageHandler(Filters.text, unknown))\n",
    "# updater.dispatcher.add_handler(MessageHandler(\n",
    "#     Filters.command, unknown)) # Filters out unknown commands\n",
    "#\n",
    "# # Filters out unknown messages.\n",
    "# updater.dispatcher.add_handler(MessageHandler(Filters.text, unknown_text))\n",
    "#\n",
    "# updater.start_polling()\n"
   ]
  }
 ],
 "metadata": {
  "kernelspec": {
   "display_name": "Python 3",
   "language": "python",
   "name": "python3"
  },
  "language_info": {
   "codemirror_mode": {
    "name": "ipython",
    "version": 3
   },
   "file_extension": ".py",
   "mimetype": "text/x-python",
   "name": "python",
   "nbconvert_exporter": "python",
   "pygments_lexer": "ipython3",
   "version": "3.8.3"
  }
 },
 "nbformat": 4,
 "nbformat_minor": 5
}
