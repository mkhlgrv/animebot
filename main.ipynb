{
 "cells": [
  {
   "cell_type": "code",
   "execution_count": 161,
   "metadata": {},
   "outputs": [],
   "source": [
    "import requests\n",
    "from scrapy.selector import Selector\n",
    "import re\n",
    "import os\n",
    "from dotenv import load_dotenv\n",
    "import telegram\n",
    "import time \n",
    "load_dotenv()\n",
    "token = os.getenv('token')\n",
    "chat_id = os.getenv('chat_id')\n",
    "user_agent = os.getenv('user_agent')"
   ]
  },
  {
   "cell_type": "code",
   "execution_count": 162,
   "metadata": {},
   "outputs": [],
   "source": [
    "# список аниме"
   ]
  },
  {
   "cell_type": "code",
   "execution_count": 264,
   "metadata": {},
   "outputs": [],
   "source": [
    "response = requests.get(\"https://jut.su/anime/page-1/\",\n",
    "                       headers = {\n",
    "        'User-Agent': user_agent\n",
    "    })"
   ]
  },
  {
   "cell_type": "code",
   "execution_count": 276,
   "metadata": {},
   "outputs": [
    {
     "name": "stdout",
     "output_type": "stream",
     "text": [
      "<class 'bytes'>\n"
     ]
    }
   ],
   "source": [
    "content = response.content.decode('cp1251').encode('utf8')\n",
    "print(type(content))"
   ]
  },
  {
   "cell_type": "code",
   "execution_count": 277,
   "metadata": {},
   "outputs": [],
   "source": [
    "x = Selector(text=content).xpath('//div[contains(@class, \"all_anime_global\")]')"
   ]
  },
  {
   "cell_type": "code",
   "execution_count": 278,
   "metadata": {},
   "outputs": [],
   "source": [
    "refs = x.xpath('./a/@href').getall()\n",
    "titles = x.xpath('.//div[contains(@class, \"aaname\")]/text()').getall()\n",
    "x_series = x.xpath('.//div[contains(@class, \"aailines\")]')\n",
    "\n",
    "def get_series_cnt(content:Selector)->int:\n",
    "    text = \"\".join(content.xpath(\"./text()\").getall())\n",
    "    series_cnt = re.search(r\"(\\d+)\\sсери\", text).group(1)\n",
    "    return int(series_cnt) if series_cnt else 0\n",
    "\n",
    "series_cnts = [get_series_cnt(item) for item in x_series]"
   ]
  },
  {
   "cell_type": "code",
   "execution_count": 279,
   "metadata": {},
   "outputs": [],
   "source": [
    "def get_series_cnt_updated(content:Selector)->dict:\n",
    "    text = \"\".join(content.xpath(\"./text()\").getall())\n",
    "    series_match= re.search(r\"(\\d+)\\sсери\", text)\n",
    "    films_match = re.search(r\"(\\d+)\\sфильм\", text)\n",
    "    series_cnt = int(series_match.group(1)) if series_match else 0\n",
    "    films_cnt = int(films_match.group(1)) if films_match else 0\n",
    "    return {'series_cnt': series_cnt,'films_cnt': films_cnt}\n",
    "    \n",
    "series_cnts = [get_series_cnt_updated(item) for item in x_series]"
   ]
  },
  {
   "cell_type": "code",
   "execution_count": 280,
   "metadata": {},
   "outputs": [
    {
     "data": {
      "text/plain": [
       "{'/shingekii-no-kyojin/': {'ref': '/shingekii-no-kyojin/',\n",
       "  'title': 'Атака титанов',\n",
       "  'series_cnt': 87,\n",
       "  'films_cnt': 2},\n",
       " '/full-metal-alchemist/': {'ref': '/full-metal-alchemist/',\n",
       "  'title': 'Стальной алхимик',\n",
       "  'series_cnt': 115,\n",
       "  'films_cnt': 2},\n",
       " '/onepunchman/': {'ref': '/onepunchman/',\n",
       "  'title': 'Ванпанчмен',\n",
       "  'series_cnt': 24,\n",
       "  'films_cnt': 0},\n",
       " '/sword-arts-online/': {'ref': '/sword-arts-online/',\n",
       "  'title': 'Мастера меча онлайн',\n",
       "  'series_cnt': 96,\n",
       "  'films_cnt': 2},\n",
       " '/boku-hero-academia/': {'ref': '/boku-hero-academia/',\n",
       "  'title': 'Моя геройская академия',\n",
       "  'series_cnt': 118,\n",
       "  'films_cnt': 3},\n",
       " '/kimetsu-yaiba/': {'ref': '/kimetsu-yaiba/',\n",
       "  'title': 'Клинок, рассекающий демонов',\n",
       "  'series_cnt': 44,\n",
       "  'films_cnt': 0},\n",
       " '/tokushu/': {'ref': '/tokushu/',\n",
       "  'title': 'Токийский Гуль',\n",
       "  'series_cnt': 48,\n",
       "  'films_cnt': 0},\n",
       " '/hunter-hunter/': {'ref': '/hunter-hunter/',\n",
       "  'title': 'Хантер х Хантер',\n",
       "  'series_cnt': 148,\n",
       "  'films_cnt': 2},\n",
       " '/stein-gate/': {'ref': '/stein-gate/',\n",
       "  'title': 'Врата Штейна',\n",
       "  'series_cnt': 49,\n",
       "  'films_cnt': 1},\n",
       " '/life-no-game/': {'ref': '/life-no-game/',\n",
       "  'title': 'Нет игры - нет жизни',\n",
       "  'series_cnt': 12,\n",
       "  'films_cnt': 1},\n",
       " '/code-geass/': {'ref': '/code-geass/',\n",
       "  'title': 'Код Гиас',\n",
       "  'series_cnt': 50,\n",
       "  'films_cnt': 6},\n",
       " '/toradora/': {'ref': '/toradora/',\n",
       "  'title': 'ТораДора',\n",
       "  'series_cnt': 25,\n",
       "  'films_cnt': 0},\n",
       " '/jujutsu-kaisen/': {'ref': '/jujutsu-kaisen/',\n",
       "  'title': 'Магическая битва',\n",
       "  'series_cnt': 24,\n",
       "  'films_cnt': 1},\n",
       " '/oneepiece/': {'ref': '/oneepiece/',\n",
       "  'title': 'Ван Пис',\n",
       "  'series_cnt': 1038,\n",
       "  'films_cnt': 12},\n",
       " '/noragaami/': {'ref': '/noragaami/',\n",
       "  'title': 'Бездомный Бог',\n",
       "  'series_cnt': 25,\n",
       "  'films_cnt': 0},\n",
       " '/re-zerou-kara/': {'ref': '/re-zerou-kara/',\n",
       "  'title': 'С нуля: Пособие по выживанию в альтернативном мире',\n",
       "  'series_cnt': 50,\n",
       "  'films_cnt': 2},\n",
       " '/angela-beats/': {'ref': '/angela-beats/',\n",
       "  'title': 'Ангельские ритмы!',\n",
       "  'series_cnt': 14,\n",
       "  'films_cnt': 0},\n",
       " '/akaame-ga-kill/': {'ref': '/akaame-ga-kill/',\n",
       "  'title': 'Убийца Акаме!',\n",
       "  'series_cnt': 24,\n",
       "  'films_cnt': 0},\n",
       " '/boku-dake/': {'ref': '/boku-dake/',\n",
       "  'title': 'Город, в котором меня нет',\n",
       "  'series_cnt': 12,\n",
       "  'films_cnt': 0},\n",
       " '/nanatsu-taizai/': {'ref': '/nanatsu-taizai/',\n",
       "  'title': 'Семь смертных грехов',\n",
       "  'series_cnt': 96,\n",
       "  'films_cnt': 0},\n",
       " '/mirai-nikki/': {'ref': '/mirai-nikki/',\n",
       "  'title': 'Дневник будущего',\n",
       "  'series_cnt': 26,\n",
       "  'films_cnt': 0},\n",
       " '/mob-100/': {'ref': '/mob-100/',\n",
       "  'title': 'Моб Психо 100',\n",
       "  'series_cnt': 30,\n",
       "  'films_cnt': 0},\n",
       " '/roomination/': {'ref': '/roomination/',\n",
       "  'title': 'Класс убийц',\n",
       "  'series_cnt': 47,\n",
       "  'films_cnt': 0},\n",
       " '/ao-exorcist/': {'ref': '/ao-exorcist/',\n",
       "  'title': 'Синий Экзорцист',\n",
       "  'series_cnt': 38,\n",
       "  'films_cnt': 1},\n",
       " '/haaikyu/': {'ref': '/haaikyu/',\n",
       "  'title': 'Волейбол!',\n",
       "  'series_cnt': 85,\n",
       "  'films_cnt': 2},\n",
       " '/yakusoku-neverland/': {'ref': '/yakusoku-neverland/',\n",
       "  'title': 'Обещанный Неверленд',\n",
       "  'series_cnt': 23,\n",
       "  'films_cnt': 0},\n",
       " '/kono-subarashii/': {'ref': '/kono-subarashii/',\n",
       "  'title': 'Этот прекрасный мир',\n",
       "  'series_cnt': 22,\n",
       "  'films_cnt': 1},\n",
       " '/bleeach/': {'ref': '/bleeach/',\n",
       "  'title': 'Блич',\n",
       "  'series_cnt': 370,\n",
       "  'films_cnt': 4},\n",
       " '/kiseijuu/': {'ref': '/kiseijuu/',\n",
       "  'title': 'Паразит',\n",
       "  'series_cnt': 24,\n",
       "  'films_cnt': 0},\n",
       " '/cowboy-bebop/': {'ref': '/cowboy-bebop/',\n",
       "  'title': 'Ковбой Бибоп',\n",
       "  'series_cnt': 26,\n",
       "  'films_cnt': 1}}"
      ]
     },
     "execution_count": 280,
     "metadata": {},
     "output_type": "execute_result"
    }
   ],
   "source": [
    "anime_dict = {}\n",
    "for ref, title, series_cnt in zip(refs, titles, series_cnts):\n",
    "    if ref not in anime_dict:\n",
    "        anime_dict[ref] = {\"ref\":ref, \"title\":title, \"series_cnt\":series_cnt['series_cnt'],'films_cnt':series_cnt['films_cnt']}\n",
    "anime_dict"
   ]
  },
  {
   "cell_type": "code",
   "execution_count": 251,
   "metadata": {},
   "outputs": [],
   "source": [
    "#Selection\n",
    "#selected = ['/full-metal-alchemist/']\n",
    "#selected_dict = {key:item for key, item in anime_dict.items() if key in selected}"
   ]
  },
  {
   "cell_type": "code",
   "execution_count": 281,
   "metadata": {},
   "outputs": [],
   "source": [
    "def get_data(url:str)->dict:\n",
    "    \"\"\"The function gets url to scrape site content specifically title name,title page source, count of series,count of films'\n",
    "    from all content pages of site and return dict object\n",
    "    INPUT:\n",
    "    URL:url adress must be like https://jut.su/anime/page-(\\d)/\n",
    "    Note: It's also use global constants from .env file  \n",
    "    \n",
    "    OUTPUT:\n",
    "    dict: the dict object which kind is {title_internal_link:\n",
    "    {'title_internal_link':title internal link,\n",
    "     'title': title name in Russian,\n",
    "     'series_cnt': series count,\n",
    "     'film_cnt': film count\n",
    "      }}\"\"\"\n",
    "    anime_dict = {}\n",
    "    page_num = 1\n",
    "    while True:\n",
    "        try:\n",
    "            page_url = url + f\"page-{page_num}/\"\n",
    "            print(page_url)\n",
    "            response = requests.get(page_url,headers={\n",
    "            \"User-Agent\": user_agent # global var\n",
    "                    })\n",
    "            content = response.content.decode(\"cp1251\").encode('utf-8')\n",
    "            selections = Selector(text=content).xpath('//div[contains(@class, \"all_anime_global\")]')\n",
    "            links = selections.xpath('./a/@href').getall()\n",
    "            titles_name = selections.xpath('.//div[contains(@class, \"aaname\")]/text()').getall()\n",
    "            titles_info = x.xpath('.//div[contains(@class, \"aailines\")]')\n",
    "            series_cnts = [get_series_cnt_updated(item) for item in titles_info]\n",
    "            if len(dic(series_cnts))==0:\n",
    "                print(\"shhh\")\n",
    "                raise Exception\n",
    "            for link, title, series_cnt in zip(links,titles_name,series_cnts):\n",
    "                 if ref not in anime_dict:\n",
    "                        anime_dict[link] = {\"ref\":link, \"title\":title, \"series_cnt\":series_cnt['series_cnt'],'films_cnt':series_cnt['films_cnt']}   \n",
    "            page_num+=1\n",
    "            del series_cnts\n",
    "        except Exception as e: \n",
    "            print(e)\n",
    "            return (anime_dict or \"No conection to the server\")"
   ]
  },
  {
   "cell_type": "code",
   "execution_count": 282,
   "metadata": {},
   "outputs": [
    {
     "name": "stdout",
     "output_type": "stream",
     "text": [
      "https://jut.su/anime/page-1/\n",
      "https://jut.su/anime/page-2/\n",
      "https://jut.su/anime/page-3/\n",
      "https://jut.su/anime/page-4/\n",
      "https://jut.su/anime/page-5/\n",
      "https://jut.su/anime/page-6/\n",
      "https://jut.su/anime/page-7/\n",
      "https://jut.su/anime/page-8/\n",
      "https://jut.su/anime/page-9/\n"
     ]
    },
    {
     "ename": "KeyboardInterrupt",
     "evalue": "",
     "output_type": "error",
     "traceback": [
      "\u001b[0;31m---------------------------------------------------------------------------\u001b[0m",
      "\u001b[0;31mKeyboardInterrupt\u001b[0m                         Traceback (most recent call last)",
      "\u001b[0;32m<ipython-input-282-1f0c15ec565d>\u001b[0m in \u001b[0;36m<module>\u001b[0;34m\u001b[0m\n\u001b[0;32m----> 1\u001b[0;31m \u001b[0mprint\u001b[0m\u001b[0;34m(\u001b[0m\u001b[0mget_data\u001b[0m\u001b[0;34m(\u001b[0m\u001b[0;34m\"https://jut.su/anime/\"\u001b[0m\u001b[0;34m)\u001b[0m\u001b[0;34m)\u001b[0m\u001b[0;34m\u001b[0m\u001b[0;34m\u001b[0m\u001b[0m\n\u001b[0m",
      "\u001b[0;32m<ipython-input-281-bafa3cb9a688>\u001b[0m in \u001b[0;36mget_data\u001b[0;34m(url)\u001b[0m\n\u001b[1;32m     19\u001b[0m             \u001b[0mpage_url\u001b[0m \u001b[0;34m=\u001b[0m \u001b[0murl\u001b[0m \u001b[0;34m+\u001b[0m \u001b[0;34mf\"page-{page_num}/\"\u001b[0m\u001b[0;34m\u001b[0m\u001b[0;34m\u001b[0m\u001b[0m\n\u001b[1;32m     20\u001b[0m             \u001b[0mprint\u001b[0m\u001b[0;34m(\u001b[0m\u001b[0mpage_url\u001b[0m\u001b[0;34m)\u001b[0m\u001b[0;34m\u001b[0m\u001b[0;34m\u001b[0m\u001b[0m\n\u001b[0;32m---> 21\u001b[0;31m             response = requests.get(page_url,headers={\n\u001b[0m\u001b[1;32m     22\u001b[0m             \u001b[0;34m\"User-Agent\"\u001b[0m\u001b[0;34m:\u001b[0m \u001b[0muser_agent\u001b[0m \u001b[0;31m# global var\u001b[0m\u001b[0;34m\u001b[0m\u001b[0;34m\u001b[0m\u001b[0m\n\u001b[1;32m     23\u001b[0m                     })\n",
      "\u001b[0;32m~/opt/anaconda3/lib/python3.8/site-packages/requests/api.py\u001b[0m in \u001b[0;36mget\u001b[0;34m(url, params, **kwargs)\u001b[0m\n\u001b[1;32m     73\u001b[0m     \"\"\"\n\u001b[1;32m     74\u001b[0m \u001b[0;34m\u001b[0m\u001b[0m\n\u001b[0;32m---> 75\u001b[0;31m     \u001b[0;32mreturn\u001b[0m \u001b[0mrequest\u001b[0m\u001b[0;34m(\u001b[0m\u001b[0;34m'get'\u001b[0m\u001b[0;34m,\u001b[0m \u001b[0murl\u001b[0m\u001b[0;34m,\u001b[0m \u001b[0mparams\u001b[0m\u001b[0;34m=\u001b[0m\u001b[0mparams\u001b[0m\u001b[0;34m,\u001b[0m \u001b[0;34m**\u001b[0m\u001b[0mkwargs\u001b[0m\u001b[0;34m)\u001b[0m\u001b[0;34m\u001b[0m\u001b[0;34m\u001b[0m\u001b[0m\n\u001b[0m\u001b[1;32m     76\u001b[0m \u001b[0;34m\u001b[0m\u001b[0m\n\u001b[1;32m     77\u001b[0m \u001b[0;34m\u001b[0m\u001b[0m\n",
      "\u001b[0;32m~/opt/anaconda3/lib/python3.8/site-packages/requests/api.py\u001b[0m in \u001b[0;36mrequest\u001b[0;34m(method, url, **kwargs)\u001b[0m\n\u001b[1;32m     59\u001b[0m     \u001b[0;31m# cases, and look like a memory leak in others.\u001b[0m\u001b[0;34m\u001b[0m\u001b[0;34m\u001b[0m\u001b[0;34m\u001b[0m\u001b[0m\n\u001b[1;32m     60\u001b[0m     \u001b[0;32mwith\u001b[0m \u001b[0msessions\u001b[0m\u001b[0;34m.\u001b[0m\u001b[0mSession\u001b[0m\u001b[0;34m(\u001b[0m\u001b[0;34m)\u001b[0m \u001b[0;32mas\u001b[0m \u001b[0msession\u001b[0m\u001b[0;34m:\u001b[0m\u001b[0;34m\u001b[0m\u001b[0;34m\u001b[0m\u001b[0m\n\u001b[0;32m---> 61\u001b[0;31m         \u001b[0;32mreturn\u001b[0m \u001b[0msession\u001b[0m\u001b[0;34m.\u001b[0m\u001b[0mrequest\u001b[0m\u001b[0;34m(\u001b[0m\u001b[0mmethod\u001b[0m\u001b[0;34m=\u001b[0m\u001b[0mmethod\u001b[0m\u001b[0;34m,\u001b[0m \u001b[0murl\u001b[0m\u001b[0;34m=\u001b[0m\u001b[0murl\u001b[0m\u001b[0;34m,\u001b[0m \u001b[0;34m**\u001b[0m\u001b[0mkwargs\u001b[0m\u001b[0;34m)\u001b[0m\u001b[0;34m\u001b[0m\u001b[0;34m\u001b[0m\u001b[0m\n\u001b[0m\u001b[1;32m     62\u001b[0m \u001b[0;34m\u001b[0m\u001b[0m\n\u001b[1;32m     63\u001b[0m \u001b[0;34m\u001b[0m\u001b[0m\n",
      "\u001b[0;32m~/opt/anaconda3/lib/python3.8/site-packages/requests/sessions.py\u001b[0m in \u001b[0;36mrequest\u001b[0;34m(self, method, url, params, data, headers, cookies, files, auth, timeout, allow_redirects, proxies, hooks, stream, verify, cert, json)\u001b[0m\n\u001b[1;32m    540\u001b[0m         }\n\u001b[1;32m    541\u001b[0m         \u001b[0msend_kwargs\u001b[0m\u001b[0;34m.\u001b[0m\u001b[0mupdate\u001b[0m\u001b[0;34m(\u001b[0m\u001b[0msettings\u001b[0m\u001b[0;34m)\u001b[0m\u001b[0;34m\u001b[0m\u001b[0;34m\u001b[0m\u001b[0m\n\u001b[0;32m--> 542\u001b[0;31m         \u001b[0mresp\u001b[0m \u001b[0;34m=\u001b[0m \u001b[0mself\u001b[0m\u001b[0;34m.\u001b[0m\u001b[0msend\u001b[0m\u001b[0;34m(\u001b[0m\u001b[0mprep\u001b[0m\u001b[0;34m,\u001b[0m \u001b[0;34m**\u001b[0m\u001b[0msend_kwargs\u001b[0m\u001b[0;34m)\u001b[0m\u001b[0;34m\u001b[0m\u001b[0;34m\u001b[0m\u001b[0m\n\u001b[0m\u001b[1;32m    543\u001b[0m \u001b[0;34m\u001b[0m\u001b[0m\n\u001b[1;32m    544\u001b[0m         \u001b[0;32mreturn\u001b[0m \u001b[0mresp\u001b[0m\u001b[0;34m\u001b[0m\u001b[0;34m\u001b[0m\u001b[0m\n",
      "\u001b[0;32m~/opt/anaconda3/lib/python3.8/site-packages/requests/sessions.py\u001b[0m in \u001b[0;36msend\u001b[0;34m(self, request, **kwargs)\u001b[0m\n\u001b[1;32m    653\u001b[0m \u001b[0;34m\u001b[0m\u001b[0m\n\u001b[1;32m    654\u001b[0m         \u001b[0;31m# Send the request\u001b[0m\u001b[0;34m\u001b[0m\u001b[0;34m\u001b[0m\u001b[0;34m\u001b[0m\u001b[0m\n\u001b[0;32m--> 655\u001b[0;31m         \u001b[0mr\u001b[0m \u001b[0;34m=\u001b[0m \u001b[0madapter\u001b[0m\u001b[0;34m.\u001b[0m\u001b[0msend\u001b[0m\u001b[0;34m(\u001b[0m\u001b[0mrequest\u001b[0m\u001b[0;34m,\u001b[0m \u001b[0;34m**\u001b[0m\u001b[0mkwargs\u001b[0m\u001b[0;34m)\u001b[0m\u001b[0;34m\u001b[0m\u001b[0;34m\u001b[0m\u001b[0m\n\u001b[0m\u001b[1;32m    656\u001b[0m \u001b[0;34m\u001b[0m\u001b[0m\n\u001b[1;32m    657\u001b[0m         \u001b[0;31m# Total elapsed time of the request (approximately)\u001b[0m\u001b[0;34m\u001b[0m\u001b[0;34m\u001b[0m\u001b[0;34m\u001b[0m\u001b[0m\n",
      "\u001b[0;32m~/opt/anaconda3/lib/python3.8/site-packages/requests/adapters.py\u001b[0m in \u001b[0;36msend\u001b[0;34m(self, request, stream, timeout, verify, cert, proxies)\u001b[0m\n\u001b[1;32m    437\u001b[0m         \u001b[0;32mtry\u001b[0m\u001b[0;34m:\u001b[0m\u001b[0;34m\u001b[0m\u001b[0;34m\u001b[0m\u001b[0m\n\u001b[1;32m    438\u001b[0m             \u001b[0;32mif\u001b[0m \u001b[0;32mnot\u001b[0m \u001b[0mchunked\u001b[0m\u001b[0;34m:\u001b[0m\u001b[0;34m\u001b[0m\u001b[0;34m\u001b[0m\u001b[0m\n\u001b[0;32m--> 439\u001b[0;31m                 resp = conn.urlopen(\n\u001b[0m\u001b[1;32m    440\u001b[0m                     \u001b[0mmethod\u001b[0m\u001b[0;34m=\u001b[0m\u001b[0mrequest\u001b[0m\u001b[0;34m.\u001b[0m\u001b[0mmethod\u001b[0m\u001b[0;34m,\u001b[0m\u001b[0;34m\u001b[0m\u001b[0;34m\u001b[0m\u001b[0m\n\u001b[1;32m    441\u001b[0m                     \u001b[0murl\u001b[0m\u001b[0;34m=\u001b[0m\u001b[0murl\u001b[0m\u001b[0;34m,\u001b[0m\u001b[0;34m\u001b[0m\u001b[0;34m\u001b[0m\u001b[0m\n",
      "\u001b[0;32m~/opt/anaconda3/lib/python3.8/site-packages/urllib3/connectionpool.py\u001b[0m in \u001b[0;36murlopen\u001b[0;34m(self, method, url, body, headers, retries, redirect, assert_same_host, timeout, pool_timeout, release_conn, chunked, body_pos, **response_kw)\u001b[0m\n\u001b[1;32m    668\u001b[0m \u001b[0;34m\u001b[0m\u001b[0m\n\u001b[1;32m    669\u001b[0m             \u001b[0;31m# Make the request on the httplib connection object.\u001b[0m\u001b[0;34m\u001b[0m\u001b[0;34m\u001b[0m\u001b[0;34m\u001b[0m\u001b[0m\n\u001b[0;32m--> 670\u001b[0;31m             httplib_response = self._make_request(\n\u001b[0m\u001b[1;32m    671\u001b[0m                 \u001b[0mconn\u001b[0m\u001b[0;34m,\u001b[0m\u001b[0;34m\u001b[0m\u001b[0;34m\u001b[0m\u001b[0m\n\u001b[1;32m    672\u001b[0m                 \u001b[0mmethod\u001b[0m\u001b[0;34m,\u001b[0m\u001b[0;34m\u001b[0m\u001b[0;34m\u001b[0m\u001b[0m\n",
      "\u001b[0;32m~/opt/anaconda3/lib/python3.8/site-packages/urllib3/connectionpool.py\u001b[0m in \u001b[0;36m_make_request\u001b[0;34m(self, conn, method, url, timeout, chunked, **httplib_request_kw)\u001b[0m\n\u001b[1;32m    424\u001b[0m                     \u001b[0;31m# Python 3 (including for exceptions like SystemExit).\u001b[0m\u001b[0;34m\u001b[0m\u001b[0;34m\u001b[0m\u001b[0;34m\u001b[0m\u001b[0m\n\u001b[1;32m    425\u001b[0m                     \u001b[0;31m# Otherwise it looks like a bug in the code.\u001b[0m\u001b[0;34m\u001b[0m\u001b[0;34m\u001b[0m\u001b[0;34m\u001b[0m\u001b[0m\n\u001b[0;32m--> 426\u001b[0;31m                     \u001b[0msix\u001b[0m\u001b[0;34m.\u001b[0m\u001b[0mraise_from\u001b[0m\u001b[0;34m(\u001b[0m\u001b[0me\u001b[0m\u001b[0;34m,\u001b[0m \u001b[0;32mNone\u001b[0m\u001b[0;34m)\u001b[0m\u001b[0;34m\u001b[0m\u001b[0;34m\u001b[0m\u001b[0m\n\u001b[0m\u001b[1;32m    427\u001b[0m         \u001b[0;32mexcept\u001b[0m \u001b[0;34m(\u001b[0m\u001b[0mSocketTimeout\u001b[0m\u001b[0;34m,\u001b[0m \u001b[0mBaseSSLError\u001b[0m\u001b[0;34m,\u001b[0m \u001b[0mSocketError\u001b[0m\u001b[0;34m)\u001b[0m \u001b[0;32mas\u001b[0m \u001b[0me\u001b[0m\u001b[0;34m:\u001b[0m\u001b[0;34m\u001b[0m\u001b[0;34m\u001b[0m\u001b[0m\n\u001b[1;32m    428\u001b[0m             \u001b[0mself\u001b[0m\u001b[0;34m.\u001b[0m\u001b[0m_raise_timeout\u001b[0m\u001b[0;34m(\u001b[0m\u001b[0merr\u001b[0m\u001b[0;34m=\u001b[0m\u001b[0me\u001b[0m\u001b[0;34m,\u001b[0m \u001b[0murl\u001b[0m\u001b[0;34m=\u001b[0m\u001b[0murl\u001b[0m\u001b[0;34m,\u001b[0m \u001b[0mtimeout_value\u001b[0m\u001b[0;34m=\u001b[0m\u001b[0mread_timeout\u001b[0m\u001b[0;34m)\u001b[0m\u001b[0;34m\u001b[0m\u001b[0;34m\u001b[0m\u001b[0m\n",
      "\u001b[0;32m~/opt/anaconda3/lib/python3.8/site-packages/urllib3/packages/six.py\u001b[0m in \u001b[0;36mraise_from\u001b[0;34m(value, from_value)\u001b[0m\n",
      "\u001b[0;32m~/opt/anaconda3/lib/python3.8/site-packages/urllib3/connectionpool.py\u001b[0m in \u001b[0;36m_make_request\u001b[0;34m(self, conn, method, url, timeout, chunked, **httplib_request_kw)\u001b[0m\n\u001b[1;32m    419\u001b[0m                 \u001b[0;31m# Python 3\u001b[0m\u001b[0;34m\u001b[0m\u001b[0;34m\u001b[0m\u001b[0;34m\u001b[0m\u001b[0m\n\u001b[1;32m    420\u001b[0m                 \u001b[0;32mtry\u001b[0m\u001b[0;34m:\u001b[0m\u001b[0;34m\u001b[0m\u001b[0;34m\u001b[0m\u001b[0m\n\u001b[0;32m--> 421\u001b[0;31m                     \u001b[0mhttplib_response\u001b[0m \u001b[0;34m=\u001b[0m \u001b[0mconn\u001b[0m\u001b[0;34m.\u001b[0m\u001b[0mgetresponse\u001b[0m\u001b[0;34m(\u001b[0m\u001b[0;34m)\u001b[0m\u001b[0;34m\u001b[0m\u001b[0;34m\u001b[0m\u001b[0m\n\u001b[0m\u001b[1;32m    422\u001b[0m                 \u001b[0;32mexcept\u001b[0m \u001b[0mBaseException\u001b[0m \u001b[0;32mas\u001b[0m \u001b[0me\u001b[0m\u001b[0;34m:\u001b[0m\u001b[0;34m\u001b[0m\u001b[0;34m\u001b[0m\u001b[0m\n\u001b[1;32m    423\u001b[0m                     \u001b[0;31m# Remove the TypeError from the exception chain in\u001b[0m\u001b[0;34m\u001b[0m\u001b[0;34m\u001b[0m\u001b[0;34m\u001b[0m\u001b[0m\n",
      "\u001b[0;32m~/opt/anaconda3/lib/python3.8/http/client.py\u001b[0m in \u001b[0;36mgetresponse\u001b[0;34m(self)\u001b[0m\n\u001b[1;32m   1330\u001b[0m         \u001b[0;32mtry\u001b[0m\u001b[0;34m:\u001b[0m\u001b[0;34m\u001b[0m\u001b[0;34m\u001b[0m\u001b[0m\n\u001b[1;32m   1331\u001b[0m             \u001b[0;32mtry\u001b[0m\u001b[0;34m:\u001b[0m\u001b[0;34m\u001b[0m\u001b[0;34m\u001b[0m\u001b[0m\n\u001b[0;32m-> 1332\u001b[0;31m                 \u001b[0mresponse\u001b[0m\u001b[0;34m.\u001b[0m\u001b[0mbegin\u001b[0m\u001b[0;34m(\u001b[0m\u001b[0;34m)\u001b[0m\u001b[0;34m\u001b[0m\u001b[0;34m\u001b[0m\u001b[0m\n\u001b[0m\u001b[1;32m   1333\u001b[0m             \u001b[0;32mexcept\u001b[0m \u001b[0mConnectionError\u001b[0m\u001b[0;34m:\u001b[0m\u001b[0;34m\u001b[0m\u001b[0;34m\u001b[0m\u001b[0m\n\u001b[1;32m   1334\u001b[0m                 \u001b[0mself\u001b[0m\u001b[0;34m.\u001b[0m\u001b[0mclose\u001b[0m\u001b[0;34m(\u001b[0m\u001b[0;34m)\u001b[0m\u001b[0;34m\u001b[0m\u001b[0;34m\u001b[0m\u001b[0m\n",
      "\u001b[0;32m~/opt/anaconda3/lib/python3.8/http/client.py\u001b[0m in \u001b[0;36mbegin\u001b[0;34m(self)\u001b[0m\n\u001b[1;32m    301\u001b[0m         \u001b[0;31m# read until we get a non-100 response\u001b[0m\u001b[0;34m\u001b[0m\u001b[0;34m\u001b[0m\u001b[0;34m\u001b[0m\u001b[0m\n\u001b[1;32m    302\u001b[0m         \u001b[0;32mwhile\u001b[0m \u001b[0;32mTrue\u001b[0m\u001b[0;34m:\u001b[0m\u001b[0;34m\u001b[0m\u001b[0;34m\u001b[0m\u001b[0m\n\u001b[0;32m--> 303\u001b[0;31m             \u001b[0mversion\u001b[0m\u001b[0;34m,\u001b[0m \u001b[0mstatus\u001b[0m\u001b[0;34m,\u001b[0m \u001b[0mreason\u001b[0m \u001b[0;34m=\u001b[0m \u001b[0mself\u001b[0m\u001b[0;34m.\u001b[0m\u001b[0m_read_status\u001b[0m\u001b[0;34m(\u001b[0m\u001b[0;34m)\u001b[0m\u001b[0;34m\u001b[0m\u001b[0;34m\u001b[0m\u001b[0m\n\u001b[0m\u001b[1;32m    304\u001b[0m             \u001b[0;32mif\u001b[0m \u001b[0mstatus\u001b[0m \u001b[0;34m!=\u001b[0m \u001b[0mCONTINUE\u001b[0m\u001b[0;34m:\u001b[0m\u001b[0;34m\u001b[0m\u001b[0;34m\u001b[0m\u001b[0m\n\u001b[1;32m    305\u001b[0m                 \u001b[0;32mbreak\u001b[0m\u001b[0;34m\u001b[0m\u001b[0;34m\u001b[0m\u001b[0m\n",
      "\u001b[0;32m~/opt/anaconda3/lib/python3.8/http/client.py\u001b[0m in \u001b[0;36m_read_status\u001b[0;34m(self)\u001b[0m\n\u001b[1;32m    262\u001b[0m \u001b[0;34m\u001b[0m\u001b[0m\n\u001b[1;32m    263\u001b[0m     \u001b[0;32mdef\u001b[0m \u001b[0m_read_status\u001b[0m\u001b[0;34m(\u001b[0m\u001b[0mself\u001b[0m\u001b[0;34m)\u001b[0m\u001b[0;34m:\u001b[0m\u001b[0;34m\u001b[0m\u001b[0;34m\u001b[0m\u001b[0m\n\u001b[0;32m--> 264\u001b[0;31m         \u001b[0mline\u001b[0m \u001b[0;34m=\u001b[0m \u001b[0mstr\u001b[0m\u001b[0;34m(\u001b[0m\u001b[0mself\u001b[0m\u001b[0;34m.\u001b[0m\u001b[0mfp\u001b[0m\u001b[0;34m.\u001b[0m\u001b[0mreadline\u001b[0m\u001b[0;34m(\u001b[0m\u001b[0m_MAXLINE\u001b[0m \u001b[0;34m+\u001b[0m \u001b[0;36m1\u001b[0m\u001b[0;34m)\u001b[0m\u001b[0;34m,\u001b[0m \u001b[0;34m\"iso-8859-1\"\u001b[0m\u001b[0;34m)\u001b[0m\u001b[0;34m\u001b[0m\u001b[0;34m\u001b[0m\u001b[0m\n\u001b[0m\u001b[1;32m    265\u001b[0m         \u001b[0;32mif\u001b[0m \u001b[0mlen\u001b[0m\u001b[0;34m(\u001b[0m\u001b[0mline\u001b[0m\u001b[0;34m)\u001b[0m \u001b[0;34m>\u001b[0m \u001b[0m_MAXLINE\u001b[0m\u001b[0;34m:\u001b[0m\u001b[0;34m\u001b[0m\u001b[0;34m\u001b[0m\u001b[0m\n\u001b[1;32m    266\u001b[0m             \u001b[0;32mraise\u001b[0m \u001b[0mLineTooLong\u001b[0m\u001b[0;34m(\u001b[0m\u001b[0;34m\"status line\"\u001b[0m\u001b[0;34m)\u001b[0m\u001b[0;34m\u001b[0m\u001b[0;34m\u001b[0m\u001b[0m\n",
      "\u001b[0;32m~/opt/anaconda3/lib/python3.8/socket.py\u001b[0m in \u001b[0;36mreadinto\u001b[0;34m(self, b)\u001b[0m\n\u001b[1;32m    667\u001b[0m         \u001b[0;32mwhile\u001b[0m \u001b[0;32mTrue\u001b[0m\u001b[0;34m:\u001b[0m\u001b[0;34m\u001b[0m\u001b[0;34m\u001b[0m\u001b[0m\n\u001b[1;32m    668\u001b[0m             \u001b[0;32mtry\u001b[0m\u001b[0;34m:\u001b[0m\u001b[0;34m\u001b[0m\u001b[0;34m\u001b[0m\u001b[0m\n\u001b[0;32m--> 669\u001b[0;31m                 \u001b[0;32mreturn\u001b[0m \u001b[0mself\u001b[0m\u001b[0;34m.\u001b[0m\u001b[0m_sock\u001b[0m\u001b[0;34m.\u001b[0m\u001b[0mrecv_into\u001b[0m\u001b[0;34m(\u001b[0m\u001b[0mb\u001b[0m\u001b[0;34m)\u001b[0m\u001b[0;34m\u001b[0m\u001b[0;34m\u001b[0m\u001b[0m\n\u001b[0m\u001b[1;32m    670\u001b[0m             \u001b[0;32mexcept\u001b[0m \u001b[0mtimeout\u001b[0m\u001b[0;34m:\u001b[0m\u001b[0;34m\u001b[0m\u001b[0;34m\u001b[0m\u001b[0m\n\u001b[1;32m    671\u001b[0m                 \u001b[0mself\u001b[0m\u001b[0;34m.\u001b[0m\u001b[0m_timeout_occurred\u001b[0m \u001b[0;34m=\u001b[0m \u001b[0;32mTrue\u001b[0m\u001b[0;34m\u001b[0m\u001b[0;34m\u001b[0m\u001b[0m\n",
      "\u001b[0;32m~/opt/anaconda3/lib/python3.8/ssl.py\u001b[0m in \u001b[0;36mrecv_into\u001b[0;34m(self, buffer, nbytes, flags)\u001b[0m\n\u001b[1;32m   1239\u001b[0m                   \u001b[0;34m\"non-zero flags not allowed in calls to recv_into() on %s\"\u001b[0m \u001b[0;34m%\u001b[0m\u001b[0;34m\u001b[0m\u001b[0;34m\u001b[0m\u001b[0m\n\u001b[1;32m   1240\u001b[0m                   self.__class__)\n\u001b[0;32m-> 1241\u001b[0;31m             \u001b[0;32mreturn\u001b[0m \u001b[0mself\u001b[0m\u001b[0;34m.\u001b[0m\u001b[0mread\u001b[0m\u001b[0;34m(\u001b[0m\u001b[0mnbytes\u001b[0m\u001b[0;34m,\u001b[0m \u001b[0mbuffer\u001b[0m\u001b[0;34m)\u001b[0m\u001b[0;34m\u001b[0m\u001b[0;34m\u001b[0m\u001b[0m\n\u001b[0m\u001b[1;32m   1242\u001b[0m         \u001b[0;32melse\u001b[0m\u001b[0;34m:\u001b[0m\u001b[0;34m\u001b[0m\u001b[0;34m\u001b[0m\u001b[0m\n\u001b[1;32m   1243\u001b[0m             \u001b[0;32mreturn\u001b[0m \u001b[0msuper\u001b[0m\u001b[0;34m(\u001b[0m\u001b[0;34m)\u001b[0m\u001b[0;34m.\u001b[0m\u001b[0mrecv_into\u001b[0m\u001b[0;34m(\u001b[0m\u001b[0mbuffer\u001b[0m\u001b[0;34m,\u001b[0m \u001b[0mnbytes\u001b[0m\u001b[0;34m,\u001b[0m \u001b[0mflags\u001b[0m\u001b[0;34m)\u001b[0m\u001b[0;34m\u001b[0m\u001b[0;34m\u001b[0m\u001b[0m\n",
      "\u001b[0;32m~/opt/anaconda3/lib/python3.8/ssl.py\u001b[0m in \u001b[0;36mread\u001b[0;34m(self, len, buffer)\u001b[0m\n\u001b[1;32m   1097\u001b[0m         \u001b[0;32mtry\u001b[0m\u001b[0;34m:\u001b[0m\u001b[0;34m\u001b[0m\u001b[0;34m\u001b[0m\u001b[0m\n\u001b[1;32m   1098\u001b[0m             \u001b[0;32mif\u001b[0m \u001b[0mbuffer\u001b[0m \u001b[0;32mis\u001b[0m \u001b[0;32mnot\u001b[0m \u001b[0;32mNone\u001b[0m\u001b[0;34m:\u001b[0m\u001b[0;34m\u001b[0m\u001b[0;34m\u001b[0m\u001b[0m\n\u001b[0;32m-> 1099\u001b[0;31m                 \u001b[0;32mreturn\u001b[0m \u001b[0mself\u001b[0m\u001b[0;34m.\u001b[0m\u001b[0m_sslobj\u001b[0m\u001b[0;34m.\u001b[0m\u001b[0mread\u001b[0m\u001b[0;34m(\u001b[0m\u001b[0mlen\u001b[0m\u001b[0;34m,\u001b[0m \u001b[0mbuffer\u001b[0m\u001b[0;34m)\u001b[0m\u001b[0;34m\u001b[0m\u001b[0;34m\u001b[0m\u001b[0m\n\u001b[0m\u001b[1;32m   1100\u001b[0m             \u001b[0;32melse\u001b[0m\u001b[0;34m:\u001b[0m\u001b[0;34m\u001b[0m\u001b[0;34m\u001b[0m\u001b[0m\n\u001b[1;32m   1101\u001b[0m                 \u001b[0;32mreturn\u001b[0m \u001b[0mself\u001b[0m\u001b[0;34m.\u001b[0m\u001b[0m_sslobj\u001b[0m\u001b[0;34m.\u001b[0m\u001b[0mread\u001b[0m\u001b[0;34m(\u001b[0m\u001b[0mlen\u001b[0m\u001b[0;34m)\u001b[0m\u001b[0;34m\u001b[0m\u001b[0;34m\u001b[0m\u001b[0m\n",
      "\u001b[0;31mKeyboardInterrupt\u001b[0m: "
     ]
    }
   ],
   "source": [
    "print(get_data(\"https://jut.su/anime/\"))"
   ]
  },
  {
   "cell_type": "code",
   "execution_count": 114,
   "metadata": {},
   "outputs": [],
   "source": [
    "# for key in selected:\n",
    "#     response = requests.get(f\"https://jut.su{key}\",\n",
    "#                        headers = {\n",
    "#         'User-Agent': user_agent\n",
    "#     })\n",
    "#     content = response.content.decode('cp1251').encode('utf8')\n",
    "#     series = Selector(text=response.content).xpath('//a[contains(@class, \"short-btn\")]//@href')\n",
    "#     diff = len(series) - anime_dict[key][\"n_series\"]\n",
    "#     if  diff!= 0:\n",
    "#         name = anime_dict[key][\"name\"]\n",
    "#         print(f\"{name} {diff} новых серий!\")\n",
    "#     anime_dict[key][\"n_series\"] = len(series)\n",
    "# # TODO descrpition\n",
    "# # x.xpath('.//div[contains(@class, \"tooltip_of_the_anime\")]/@content').get()"
   ]
  },
  {
   "cell_type": "code",
   "execution_count": 10,
   "metadata": {},
   "outputs": [],
   "source": [
    "# class AnimeObserver():\n",
    "#     def __init__(self, selected):\n",
    "#         self.selected = selected\n",
    "        "
   ]
  },
  {
   "cell_type": "code",
   "execution_count": 11,
   "metadata": {},
   "outputs": [],
   "source": [
    "selected_item = selected_dict['/full-metal-alchemist/']"
   ]
  },
  {
   "cell_type": "code",
   "execution_count": null,
   "metadata": {
    "pycharm": {
     "name": "#%%\n"
    }
   },
   "outputs": [],
   "source": [
    "# from telegram.ext.updater import Updater\n",
    "# from telegram.update import Update\n",
    "# from telegram.ext.callbackcontext import CallbackContext\n",
    "# from telegram.ext.commandhandler import CommandHandler\n",
    "# from telegram.ext.messagehandler import MessageHandler\n",
    "# from telegram.ext.filters import Filters\n",
    "#\n",
    "# updater = Updater(\"token\", use_context=True)\n",
    "#\n",
    "#\n",
    "# def start(update: Update, context: CallbackContext):\n",
    "#     update.message.reply_text(\n",
    "#         \"Hello sir, Welcome to the Bot.Please write\\\n",
    "#         /help to see the commands available.\")\n",
    "#\n",
    "# def help(update: Update, context: CallbackContext):\n",
    "#     update.message.reply_text(\"\"\"Available Commands :-\n",
    "#     /add - Add selected series\n",
    "#     /remove - Remove series from selected list\n",
    "#     \"\"\")\n",
    "#\n",
    "#\n",
    "# def add(update: Update, context: CallbackContext):\n",
    "#     update.message.reply_text(\n",
    "#         f\"{selected_item['name']}: {selected_item['series_cnt']}\")\n",
    "#\n",
    "# def remove(update: Update, context: CallbackContext):\n",
    "#     update.message.reply_text(\n",
    "#         \"Remove items\")\n",
    "#\n",
    "#\n",
    "#\n",
    "#\n",
    "#\n",
    "# def unknown(update: Update, context: CallbackContext):\n",
    "#     update.message.reply_text(\n",
    "#         \"Sorry '%s' is not a valid command\" % update.message.text)\n",
    "#\n",
    "#\n",
    "# def unknown_text(update: Update, context: CallbackContext):\n",
    "#     update.message.reply_text(\n",
    "#         \"Sorry I can't recognize you , you said '%s'\" % update.message.text)\n",
    "#\n",
    "#\n",
    "# updater.dispatcher.add_handler(CommandHandler('start', start))\n",
    "# updater.dispatcher.add_handler(CommandHandler('add', add))\n",
    "# updater.dispatcher.add_handler(CommandHandler('remove', remove))\n",
    "# updater.dispatcher.add_handler(CommandHandler('help', help))\n",
    "# updater.dispatcher.add_handler(MessageHandler(Filters.text, unknown))\n",
    "# updater.dispatcher.add_handler(MessageHandler(\n",
    "#     Filters.command, unknown)) # Filters out unknown commands\n",
    "#\n",
    "# # Filters out unknown messages.\n",
    "# updater.dispatcher.add_handler(MessageHandler(Filters.text, unknown_text))\n",
    "#\n",
    "# updater.start_polling()\n"
   ]
  },
  {
   "cell_type": "code",
   "execution_count": 24,
   "metadata": {},
   "outputs": [
    {
     "name": "stdout",
     "output_type": "stream",
     "text": [
      "Some str\n",
      "Another str\n"
     ]
    }
   ],
   "source": [
    "try: \n",
    "    print(\"Some str\")\n",
    "    raise Exception\n",
    "except:\n",
    "    print(\"Another str\")"
   ]
  },
  {
   "cell_type": "code",
   "execution_count": null,
   "metadata": {},
   "outputs": [],
   "source": []
  }
 ],
 "metadata": {
  "kernelspec": {
   "display_name": "Python 3",
   "language": "python",
   "name": "python3"
  },
  "language_info": {
   "codemirror_mode": {
    "name": "ipython",
    "version": 3
   },
   "file_extension": ".py",
   "mimetype": "text/x-python",
   "name": "python",
   "nbconvert_exporter": "python",
   "pygments_lexer": "ipython3",
   "version": "3.8.3"
  }
 },
 "nbformat": 4,
 "nbformat_minor": 5
}
